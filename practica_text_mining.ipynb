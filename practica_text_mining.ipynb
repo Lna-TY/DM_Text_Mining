{
 "cells": [
  {
   "cell_type": "markdown",
   "id": "4f18c8e9",
   "metadata": {},
   "source": [
    "# DM - Práctica Text Mining\n",
    "___\n",
    "\n",
    "- Universidad Carlos III de Madrid, 4º Curso\n",
    "- Asignatura: Métodos estadísticos en minería de datos\n",
    "- Número de grupo: no se que numero somos hahhahahhahahah\n",
    "- Integrantes: Elena Tran Yang, Marta Madella, Jin Wang y Sabrina Torres Román"
   ]
  },
  {
   "cell_type": "code",
   "execution_count": null,
   "id": "0bb1bdf5",
   "metadata": {},
   "outputs": [],
   "source": [
    "holasafv"
   ]
  },
  {
   "cell_type": "code",
   "execution_count": null,
   "id": "482c8306",
   "metadata": {},
   "outputs": [],
   "source": [
    "# Cargar dataset\n",
    "ds = load_dataset(\"Iker/NoticIA\")\n",
    "\n",
    "df = pd.concat([\n",
    "ds['train'].to_pandas(),\n",
    "ds['validation'].to_pandas(),\n",
    "ds['test'].to_pandas()\n",
    "], ignore_index=True)"
   ]
  },
  {
   "cell_type": "code",
   "execution_count": null,
   "id": "94d46ba0",
   "metadata": {},
   "outputs": [],
   "source": []
  },
  {
   "cell_type": "code",
   "execution_count": null,
   "id": "205dc3ce",
   "metadata": {},
   "outputs": [],
   "source": []
  },
  {
   "cell_type": "code",
   "execution_count": null,
   "id": "2f04061b",
   "metadata": {},
   "outputs": [],
   "source": []
  },
  {
   "cell_type": "code",
   "execution_count": null,
   "id": "d6f014d0",
   "metadata": {},
   "outputs": [],
   "source": []
  }
 ],
 "metadata": {
  "language_info": {
   "name": "python"
  }
 },
 "nbformat": 4,
 "nbformat_minor": 5
}
