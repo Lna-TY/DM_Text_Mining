{
 "cells": [
  {
   "cell_type": "markdown",
   "id": "4f18c8e9",
   "metadata": {},
   "source": [
    "# DM - Práctica Text Mining\n",
    "___\n",
    "\n",
    "- Universidad Carlos III de Madrid, 4º Curso\n",
    "- Asignatura: Métodos estadísticos en minería de datos\n",
    "- Número de grupo: no se que numero somos hahhahahhahahah\n",
    "- Integrantes: Elena Tran Yang, Marta Madella, Jin Wang y Sabrina Torres Román"
   ]
  },
  {
   "cell_type": "code",
   "execution_count": null,
   "id": "0bb1bdf5",
   "metadata": {},
   "outputs": [],
   "source": [
    "# Instalacion de paquetes\n",
    "# !pip install scikit-learn nltk spacy unidecode networkx wordcloud\n",
    "# !python -m spacy download es_core_news_sm\n",
    "\n",
    "# Importar librerías\n",
    "import pandas as pd\n",
    "from datasets import load_dataset\n",
    "import numpy as np\n",
    "from sklearn.feature_extraction.text import CountVectorizer \n",
    "import os # útil para manejar ficheros y directorios\n",
    "import re # útil para manejar expresiones regulares\n",
    "import nltk # librería de procesamiento de lenguaje natural. Usaremos algunas de sus funciones (stopwords y tokenizers)\n",
    "import spacy # librería de procesamiento de lenguaje natural. Usaremos algunas de sus funciones (lemmatization)\n",
    "import pandas as pd\n",
    "from nltk.corpus import stopwords\n",
    "from nltk.tokenize import word_tokenize\n",
    "from unidecode import unidecode # para eliminar tildes y otros signos diacríticos\n",
    "import matplotlib.pyplot as plt\n",
    "import networkx as nx # para crear y manejar grafos\n",
    "from wordcloud import WordCloud # para crear nubes de palabras\n",
    "\n",
    "# Descargar recursos adicionales de NLTK\n",
    "nltk.download('stopwords') # para descargar la lista de stopwords, incluido español\n",
    "nltk.download('punkt') # para descargar reglas de tokenización\n",
    "nltk.download('punkt_tab')\n",
    "\n",
    "# Carga el modelo en español de spaCy que instalamos prevviamente al inicio del notebook\n",
    "nlp = spacy.load(\"es_core_news_sm\")"
   ]
  },
  {
   "cell_type": "markdown",
   "id": "81a6b303",
   "metadata": {},
   "source": [
    "# Cargar el Dataset"
   ]
  },
  {
   "cell_type": "code",
   "execution_count": null,
   "id": "482c8306",
   "metadata": {},
   "outputs": [],
   "source": [
    "# Cargar dataset\n",
    "ds = load_dataset(\"Iker/NoticIA\") #Conjunto de noticias en español\n",
    "\n",
    "df = pd.concat([\n",
    "ds['train'].to_pandas(),\n",
    "ds['validation'].to_pandas(),\n",
    "ds['test'].to_pandas()\n",
    "], ignore_index=True)\n",
    "\n",
    "# Las primeras filas\n",
    "df.head()"
   ]
  },
  {
   "cell_type": "markdown",
   "id": "05eec481",
   "metadata": {},
   "source": [
    "# Exploración inicial"
   ]
  },
  {
   "cell_type": "code",
   "execution_count": null,
   "id": "94d46ba0",
   "metadata": {},
   "outputs": [],
   "source": [
    "# Exploración básica del dataset\n",
    "# Ver tamaño y columnas\n",
    "df.info()\n",
    "\n",
    "# Contar valores nulos\n",
    "df.isnull().sum()\n",
    "\n",
    "# Contar las noticias por mefio\n",
    "df['source'].value_counts()\n",
    "\n",
    "# Número de palabras que suelen tener los textos\n",
    "df['text'].str.split().apply(len).describe()\n",
    "\n",
    "# Mostrar algunas noticias y medios\n",
    "df[['title', 'text', 'source']].head(10)"
   ]
  },
  {
   "cell_type": "markdown",
   "id": "cb3c0819",
   "metadata": {},
   "source": [
    "# Preprocesado"
   ]
  },
  {
   "cell_type": "code",
   "execution_count": null,
   "id": "205dc3ce",
   "metadata": {},
   "outputs": [],
   "source": []
  },
  {
   "cell_type": "code",
   "execution_count": null,
   "id": "2f04061b",
   "metadata": {},
   "outputs": [],
   "source": []
  },
  {
   "cell_type": "markdown",
   "id": "a46f297a",
   "metadata": {},
   "source": [
    "# Exportación del notebook\n"
   ]
  },
  {
   "cell_type": "code",
   "execution_count": null,
   "id": "d6f014d0",
   "metadata": {},
   "outputs": [],
   "source": [
    "# Celda para compilar el notebook a HTML (descomentar la siguiente línea, hace falta tener instalado nbconvert)\n",
    "# Una vez creado el HTML, podemos abrirlo en el navegador web y con ctrl+print guardarlo como PDF\n",
    "# !jupyter nbconvert --to html \"2_text_mining.ipynb\""
   ]
  }
 ],
 "metadata": {
  "kernelspec": {
   "display_name": "base",
   "language": "python",
   "name": "python3"
  },
  "language_info": {
   "name": "python",
   "version": "3.13.5"
  }
 },
 "nbformat": 4,
 "nbformat_minor": 5
}
