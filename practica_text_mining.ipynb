{
 "cells": [
  {
   "cell_type": "markdown",
   "id": "4f18c8e9",
   "metadata": {},
   "source": [
    "# DM - Práctica Text Mining\n",
    "___\n",
    "\n",
    "- Universidad Carlos III de Madrid, 4º Curso\n",
    "- Asignatura: Métodos estadísticos en minería de datos\n",
    "- Número de grupo: no se que numero somos hahhahahhahahah\n",
    "- Integrantes: Elena Tran Yang, Marta Madella, Jin Wang y Sabrina Torres Román"
   ]
  },
  {
   "cell_type": "code",
   "execution_count": null,
   "id": "0bb1bdf5",
   "metadata": {},
   "outputs": [],
   "source": [
    "# Instalacion de paquetes\n",
    "!pip install scikit-learn nltk spacy unidecode networkx wordcloud\n",
    "!python -m spacy download es_core_news_sm\n",
    "\n",
    "# Importar librerías\n",
    "import pandas as pd\n",
    "from datasets import load_dataset\n",
    "import numpy as np\n",
    "from sklearn.feature_extraction.text import CountVectorizer \n",
    "import os # útil para manejar ficheros y directorios\n",
    "import re # útil para manejar expresiones regulares\n",
    "import nltk # librería de procesamiento de lenguaje natural. Usaremos algunas de sus funciones (stopwords y tokenizers)\n",
    "import spacy # librería de procesamiento de lenguaje natural. Usaremos algunas de sus funciones (lemmatization)\n",
    "import pandas as pd\n",
    "from nltk.corpus import stopwords\n",
    "from nltk.tokenize import word_tokenize\n",
    "from unidecode import unidecode # para eliminar tildes y otros signos diacríticos\n",
    "import matplotlib.pyplot as plt\n",
    "import networkx as nx # para crear y manejar grafos\n",
    "from wordcloud import WordCloud # para crear nubes de palabras\n",
    "\n",
    "# Descargar recursos adicionales de NLTK\n",
    "nltk.download('stopwords') # para descargar la lista de stopwords, incluido español\n",
    "nltk.download('punkt') # para descargar reglas de tokenización\n",
    "nltk.download('punkt_tab')\n",
    "\n",
    "# Carga el modelo en español de spaCy que instalamos prevviamente al inicio del notebook\n",
    "nlp = spacy.load(\"es_core_news_sm\")\n",
    "\n"
   ]
  },
  {
   "cell_type": "code",
   "execution_count": null,
   "id": "482c8306",
   "metadata": {},
   "outputs": [],
   "source": [
    "# Cargar dataset\n",
    "ds = load_dataset(\"Iker/NoticIA\")\n",
    "\n",
    "df = pd.concat([\n",
    "ds['train'].to_pandas(),\n",
    "ds['validation'].to_pandas(),\n",
    "ds['test'].to_pandas()\n",
    "], ignore_index=True)"
   ]
  },
  {
   "cell_type": "code",
   "execution_count": null,
   "id": "94d46ba0",
   "metadata": {},
   "outputs": [],
   "source": []
  },
  {
   "cell_type": "code",
   "execution_count": null,
   "id": "205dc3ce",
   "metadata": {},
   "outputs": [],
   "source": []
  },
  {
   "cell_type": "code",
   "execution_count": null,
   "id": "2f04061b",
   "metadata": {},
   "outputs": [],
   "source": []
  },
  {
   "cell_type": "code",
   "execution_count": null,
   "id": "d6f014d0",
   "metadata": {},
   "outputs": [],
   "source": []
  }
 ],
 "metadata": {
  "language_info": {
   "name": "python"
  }
 },
 "nbformat": 4,
 "nbformat_minor": 5
}
